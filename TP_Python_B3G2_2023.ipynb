{
 "cells": [
  {
   "cell_type": "markdown",
   "metadata": {},
   "source": [
    "# <center> TP sur les Listes en Python </center>"
   ]
  },
  {
   "cell_type": "markdown",
   "metadata": {},
   "source": [
    "## 1. Découverte des listes"
   ]
  },
  {
   "cell_type": "markdown",
   "metadata": {},
   "source": [
    "Une liste en python se note entre crochet exemple liste = [2,4,5,6,7], on dira que cette liste est définie en extension. Une liste vide se note liste_vide = []\n",
    "<br> \n",
    "<strong>Rappel</strong> : En python pour afficher la valeur d'une variable, il faut utiliser la fonction <strong>print</strong>"
   ]
  },
  {
   "cell_type": "markdown",
   "metadata": {},
   "source": [
    "1) Commençons par créer une liste que nous appellerons L. \n",
    "Cliquer sur la cellule ci-dessous puis cliquer sur <strong>Run (ou Exécuter)</strong> dans le menu en haut de la page. La liste L devrait s'afficher en dessous de la cellule."
   ]
  },
  {
   "cell_type": "code",
   "execution_count": null,
   "metadata": {},
   "outputs": [],
   "source": [
    "L =[8,3,11,7] #Création de la liste L\n",
    "print(L) #affichage de la liste L"
   ]
  },
  {
   "cell_type": "markdown",
   "metadata": {},
   "source": [
    "2) Dans la cellule ci-dessous, taper L[1] et exécuter la cellule en cliquant sur <strong>Run (ou Exécuter)</strong>."
   ]
  },
  {
   "cell_type": "code",
   "execution_count": null,
   "metadata": {},
   "outputs": [],
   "source": [
    "L[1]"
   ]
  },
  {
   "cell_type": "markdown",
   "metadata": {},
   "source": [
    "<strong><u>Remarque</u></strong> : En python les indices des listes commence à zéro"
   ]
  },
  {
   "cell_type": "markdown",
   "metadata": {},
   "source": [
    "3) On veut ajouter la valeur 5 dans la liste L pour se faire taper dans la cellule suivante <strong>L.append(5)</strong> au-dessus de print(L) et exécuter la cellule."
   ]
  },
  {
   "cell_type": "code",
   "execution_count": null,
   "metadata": {},
   "outputs": [],
   "source": [
    "#Ecrire L.append(5) ici\n",
    "print(L)"
   ]
  },
  {
   "cell_type": "markdown",
   "metadata": {},
   "source": [
    "4) En Python on peut inserer la valeur 42 à l'indice 2 d'une liste L en exécutant l'instruction <strong>L.insert(2,42)</strong>. Quelle instruction doit-on écrire pour ajouter la valeur 4 à la liste L de la question 1? Faire le test dans la cellule ci-dessous."
   ]
  },
  {
   "cell_type": "code",
   "execution_count": null,
   "metadata": {},
   "outputs": [],
   "source": [
    "#Ecrire L.insert(2,42) ici et exécuter la cellule\n",
    "print(L)"
   ]
  },
  {
   "cell_type": "markdown",
   "metadata": {},
   "source": [
    "5) Tapez dans la cellule suivante <strong>len(L)</strong> et exécuter la cellule. Que fait la fonction len?"
   ]
  },
  {
   "cell_type": "code",
   "execution_count": null,
   "metadata": {},
   "outputs": [],
   "source": []
  },
  {
   "cell_type": "markdown",
   "metadata": {},
   "source": [
    "6) Dans la cellule ci-dessous on définit deux listes C et D, donner les valeur de s,m et v (vérifier vos réponses en modifiant le script en affichant les valeurs de s,m et v à l'aide de print et en executant la cellule)"
   ]
  },
  {
   "cell_type": "code",
   "execution_count": null,
   "metadata": {},
   "outputs": [],
   "source": [
    "C = [4, 7, 1, 5, 9]\n",
    "D = [5 , 8, 6, 3]\n",
    "s = C[0] + C[3]\n",
    "m = C[1] + C[4]\n",
    "v = C + D"
   ]
  },
  {
   "cell_type": "markdown",
   "metadata": {},
   "source": [
    "Il y a des fonctions spécifiques sur les listes en Python : \n",
    "<ul>•\tL’instruction <strong>L.append(x)</strong> ajoute l’élément x à la fin de la liste L</ul>\n",
    "<ul>•\tL’instruction <strong>L.remove(c)</strong> supprime la première occurrence de l’élément c dans la liste L</ul>\n",
    "<ul>•\tL’instruction <strong>L.pop(i)</strong> supprime l’élément d’indice i dans la liste L</ul>\n"
   ]
  },
  {
   "cell_type": "markdown",
   "metadata": {},
   "source": [
    "7) Soit la liste K = [1, 8, \"a\", \"b\", 8], que devient K après l’instruction <strong>K.remove(1)</strong> ? (Le faire à la main puis le tester dans la cellule suivante)"
   ]
  },
  {
   "cell_type": "code",
   "execution_count": null,
   "metadata": {},
   "outputs": [],
   "source": [
    "K = [1, 8, \"a\" ,\"b\", 8]\n",
    "K.remove(1)\n"
   ]
  },
  {
   "cell_type": "markdown",
   "metadata": {},
   "source": [
    "8) Soit la liste U = [1, 8, \"a\", \"b\", 8], que devient U après l’instruction <strong>U.remove(8)</strong> ?(Le faire à la main puis le tester dans la cellule suivante)"
   ]
  },
  {
   "cell_type": "code",
   "execution_count": null,
   "metadata": {},
   "outputs": [],
   "source": [
    "U = [1, 8, \"a\", \"b\", 8]"
   ]
  },
  {
   "cell_type": "markdown",
   "metadata": {},
   "source": [
    "9) Soit la liste Z = [1, 8, \"a\", \"b\", 8], que devient Z après l’instruction <strong>Z.pop(2)</strong> ? (Le faire à la main puis le tester dans la cellule suivante)"
   ]
  },
  {
   "cell_type": "code",
   "execution_count": null,
   "metadata": {},
   "outputs": [],
   "source": [
    "Z = [1, 8, \"a\", \"b\", 8]"
   ]
  },
  {
   "cell_type": "markdown",
   "metadata": {},
   "source": [
    "10) Soit la liste U = [1, 8, \"a\", \"b\", 8], que faut-il écrire pour ajouter la chaîne de caractère \"toto\" à la fin de la liste U ? (Le faire à la main puis le tester dans la cellule suivante)"
   ]
  },
  {
   "cell_type": "code",
   "execution_count": null,
   "metadata": {},
   "outputs": [],
   "source": [
    "U = [1, 8, \"a\", \"b\", 8]"
   ]
  },
  {
   "cell_type": "markdown",
   "metadata": {},
   "source": [
    "## 2) PARCOURS ITERATIF et MODE DE GENERATION D'UNE LISTE"
   ]
  },
  {
   "cell_type": "markdown",
   "metadata": {},
   "source": [
    "Dans cette partie nous allons voir comment générer une liste de différentes façons et comment la parcourir"
   ]
  },
  {
   "cell_type": "markdown",
   "metadata": {},
   "source": [
    "1) Le script ci-dessous crée trois listes (liste1,liste2,liste3) contenant les 10 premiers entiers naturels de trois façons différentes. Exéctuter la cellule suivante en essayant de comprendre comment se \"construisent\" ces listes. \n"
   ]
  },
  {
   "cell_type": "code",
   "execution_count": null,
   "metadata": {},
   "outputs": [],
   "source": [
    "liste1 = list(range(0,10))   #On aurait pu écrire range(10) au lieu de range(0,10)\n",
    "print(\"Liste 1 = \",liste1)\n",
    "\n",
    "liste2 =[i for i in range(10)] #Ce 'type' de liste s'appelle une liste définie en compréhension\n",
    "print(\"Liste 2 = \",liste2)\n",
    "\n",
    "liste3 = []\n",
    "for k in range(10):\n",
    "    liste3.append(k)\n",
    "print(\"Liste 3 = \",liste3)\n"
   ]
  },
  {
   "cell_type": "markdown",
   "metadata": {},
   "source": [
    "2) Modifier le script précédent copié dans cellule ci-dessous pour que :\n",
    "* la liste1 soit composée de la liste des entiers de 5 à 45 (inclus)\n",
    "* la liste2 soit composée des 100 premiers entiers pairs\n",
    "* la liste3 soit composée des 50 premiers entiers impairs\n"
   ]
  },
  {
   "cell_type": "code",
   "execution_count": null,
   "metadata": {},
   "outputs": [],
   "source": [
    "# Modifier le script suivant, puis éxecuter la cellule \n",
    "\n",
    "liste1 = list(range(0,10))   #On aurait pu écrire range(10) au lieu de range(0,10)\n",
    "print(\"Liste 1 = \",liste1)\n",
    "\n",
    "liste2 =[i for i in range(10)] #Ce 'type' de liste s'appelle une liste définie en compréhension\n",
    "print(\"Liste 2 = \",liste2)\n",
    "\n",
    "liste3 = []\n",
    "for k in range(10):\n",
    "    liste3.append(k)\n",
    "print(\"Liste 3 = \",liste3)\n"
   ]
  },
  {
   "cell_type": "markdown",
   "metadata": {},
   "source": [
    " <h1><span style=\"color: #68A1EC\"> Exercice 1 : Résoudre un problème </span></h1> \n",
    "En 2018, une étude menée dans une ville a montré que la consommation d’eau par an et par habitant s’élevait à 50$ m^{3} $. On suppose que, dans les années qui suivront, cette consommation baissera de 2% par an.<br>\n",
    "1)Montrer que la consommation d’eau prévisible en 2019 est de 49 $ m^{3} $.(Le faire à la main)"
   ]
  },
  {
   "cell_type": "markdown",
   "metadata": {},
   "source": [
    "u= 50*1,02=49 $ m^{3} $"
   ]
  },
  {
   "cell_type": "markdown",
   "metadata": {},
   "source": [
    "2) Compléter le script Python ci-dessous qui affiche l'année à partir de laquelle la consommation d'eau sera inférieure à 40  $ m^{3} $. Après avoir compléter les ... du code suivant répondre au probléme."
   ]
  },
  {
   "cell_type": "code",
   "execution_count": null,
   "metadata": {},
   "outputs": [],
   "source": [
    "# Enlever les ... et écrire le code qui convient pour répondre au problème\n",
    "\n",
    "conso = 50\n",
    "annee = 0\n",
    "while conso >= ........ :\n",
    "    conso = ..........\n",
    "    annee = ..........\n",
    "\n",
    "print(annee)\n"
   ]
  },
  {
   "cell_type": "markdown",
   "metadata": {},
   "source": [
    "<h1><span style=\"color: #68A1EC\"> Exercice 2 : Lien avec les suites avec aide </span></h1> \n",
    "Soit $ (v_{n}) $ une suite définie par $ v_{0} = 2 $ et pour tout entier naturel $ n $ par $ v_{n+1}= 2v_{n}+ 3 $. <br>\n",
    "1) Le script Python ci-dessous renvoie la liste des 5 premiers termes de la suite $ v_{n} $. Exécuter-le."
   ]
  },
  {
   "cell_type": "code",
   "execution_count": null,
   "metadata": {},
   "outputs": [],
   "source": [
    "v = 2 \n",
    "L =[] \n",
    "for i in range(5):\n",
    "    L.append(v)\n",
    "    v = 2 * v + 3\n",
    "print(L)"
   ]
  },
  {
   "cell_type": "markdown",
   "metadata": {},
   "source": [
    "2) Ecrire un script Python qui renvoie la liste des 10 premiers termes de la suite $ v_{n} $. Vous pouvez le tester ci-dessous."
   ]
  },
  {
   "cell_type": "code",
   "execution_count": null,
   "metadata": {},
   "outputs": [],
   "source": []
  },
  {
   "cell_type": "markdown",
   "metadata": {},
   "source": [
    "3) Le script Python ci-dessous renvoie $ v_{15} $. Exécuter-le. Quelle est la valeur de $ v_{15} $?"
   ]
  },
  {
   "cell_type": "code",
   "execution_count": null,
   "metadata": {},
   "outputs": [],
   "source": [
    "v = 2  \n",
    "for i in range(15):\n",
    "    v = 2 * v + 3\n",
    "print(v)"
   ]
  },
  {
   "cell_type": "markdown",
   "metadata": {},
   "source": [
    "4) Ecrire un script Python qui renvoie $ v_{20} $. Vous pouvez le tester ci-dessous. Quelle est la valeur de $ v_{20} $?"
   ]
  },
  {
   "cell_type": "code",
   "execution_count": null,
   "metadata": {},
   "outputs": [],
   "source": []
  },
  {
   "cell_type": "markdown",
   "metadata": {},
   "source": [
    "<h1><span style=\"color: #68A1EC\">Exercice 3 : Lien avec les suites sans aide</span></h1> \n",
    "Soit $ (u_{n}) $ une suite définie par $ u_{0} = 4 $ et pour tout entier naturel $ n $ par $ u_{n+1}=3u_{n}-5 $. <br>\n",
    "1) Ecrire un script Python qui renvoie la liste des 10 premiers termes de la suite $ u_{n} $. Vous pouvez le tester ci-dessous."
   ]
  },
  {
   "cell_type": "code",
   "execution_count": null,
   "metadata": {},
   "outputs": [],
   "source": []
  },
  {
   "cell_type": "markdown",
   "metadata": {},
   "source": [
    "2) Ecrire un script Python qui renvoie $ u_{25} $. Vous pouvez le tester ci-dessous."
   ]
  },
  {
   "cell_type": "code",
   "execution_count": null,
   "metadata": {},
   "outputs": [],
   "source": []
  },
  {
   "cell_type": "markdown",
   "metadata": {},
   "source": [
    "<h1><span style=\"color: #68A1EC\">Exercice 4 :</span></h1> \n",
    "Soit $ (u_{n}) $ une suite définie par récurrence pour tout entier n <strong> non nul </strong> à l'aide du script suivant:"
   ]
  },
  {
   "cell_type": "code",
   "execution_count": null,
   "metadata": {},
   "outputs": [],
   "source": [
    "u = 2\n",
    "for i in range(5):\n",
    "    u = 5 * u - 3\n",
    "print(u)"
   ]
  },
  {
   "cell_type": "markdown",
   "metadata": {},
   "source": [
    "1) Quel terme le script ci-dessus permet-il de calculer? (Vérifier votre réponse en exécutant le script précédent, sans oublier d'afficher la valeur de u à l'aide de print(u)) "
   ]
  },
  {
   "cell_type": "markdown",
   "metadata": {},
   "source": [
    "2) Modifier le script ci-dessus pour qu'il affiche $ (u_{7}) $. Le faire dans la cellule suivante."
   ]
  },
  {
   "cell_type": "code",
   "execution_count": null,
   "metadata": {},
   "outputs": [],
   "source": [
    "#Script à modifier\n",
    "u = 2\n",
    "for i in range(5):\n",
    "    u = 5 * u - 3\n",
    "print(u)"
   ]
  },
  {
   "cell_type": "markdown",
   "metadata": {},
   "source": [
    "<h1><span style=\"color: #68A1EC\">Exercice 5 : Reprise de l'exemple 2 du cours</span></h1> \n",
    "On considère la suite  $ (u_{n}) $ définie pour tout $ n $ par $ u_{0}=1 $ et $ u_{n+1}=-u_{n}^2-6 $ pour tout entier naturel $n$. La fonction <strong>suite3</strong> écrite en langage Python ci-dessous permet d’obtenir la liste des $n$ premier terme de la suite $ (u_{n}) $.\n",
    "Que retourne <strong>suite3(3) </strong> et <strong>suite3(6) </strong>?\n"
   ]
  },
  {
   "cell_type": "code",
   "execution_count": null,
   "metadata": {},
   "outputs": [],
   "source": [
    "def suite3(n):\n",
    "    u = 1\n",
    "    L=[u]\n",
    "    for k in range(1,n):\n",
    "        u = -u ** 2 - 6\n",
    "        L.append(u)\n",
    "    return L\n",
    "\n",
    "#pour afficher la valeur de suite3(3) écrire print(suite3(3)) à la place de ce commentaire"
   ]
  },
  {
   "cell_type": "markdown",
   "metadata": {},
   "source": [
    "Faire les exercices du livre : \n",
    "* 59 page87\n",
    "* 63, 64, 67, 73 page 88 \n",
    "* 101 page 91\n",
    "* Sujet D page 99 \n",
    "Vous pouvez créer des cellules Python en cliquant sur l'icône + dans le menu en haut de la page."
   ]
  },
  {
   "cell_type": "markdown",
   "metadata": {},
   "source": [
    "Vous pouvez sauvegarder votre travail en cliquant sur file > Save and export Notebook as > HTML.Le fichier est téléchargé dans le dossier téléchargement. "
   ]
  }
 ],
 "metadata": {
  "kernelspec": {
   "display_name": "Python 3",
   "language": "python",
   "name": "python3"
  },
  "language_info": {
   "codemirror_mode": {
    "name": "ipython",
    "version": 3
   },
   "file_extension": ".py",
   "mimetype": "text/x-python",
   "name": "python",
   "nbconvert_exporter": "python",
   "pygments_lexer": "ipython3",
   "version": "3.8.8"
  }
 },
 "nbformat": 4,
 "nbformat_minor": 4
}
